{
 "cells": [
  {
   "cell_type": "code",
   "execution_count": 18,
   "id": "ed7979f7",
   "metadata": {},
   "outputs": [],
   "source": [
    "import numpy as np\n",
    "import pandas as pd\n",
    "import matplotlib.pyplot as plt\n",
    "import seaborn as sns\n",
    "from matplotlib import style\n",
    "import geopandas as gpd\n",
    "import math\n",
    "from geopy.geocoders import Nominatim\n",
    "from sklearn.preprocessing import MinMaxScaler, StandardScaler"
   ]
  },
  {
   "cell_type": "code",
   "execution_count": 35,
   "id": "783c228d",
   "metadata": {},
   "outputs": [],
   "source": [
    "gold = pd.read_csv('gold ore 2023-2010.csv')"
   ]
  },
  {
   "cell_type": "code",
   "execution_count": 20,
   "id": "afe31edd",
   "metadata": {},
   "outputs": [
    {
     "data": {
      "text/plain": [
       "Date      datetime64[ns]\n",
       "Price             object\n",
       "Open              object\n",
       "High              object\n",
       "Low               object\n",
       "Volume            object\n",
       "Chg%              object\n",
       "dtype: object"
      ]
     },
     "execution_count": 20,
     "metadata": {},
     "output_type": "execute_result"
    }
   ],
   "source": [
    "gold.dtypes"
   ]
  },
  {
   "cell_type": "code",
   "execution_count": null,
   "id": "bb983a9b",
   "metadata": {},
   "outputs": [],
   "source": [
    "df['column_name'] = df['column_name'].str.replace('a', '')"
   ]
  },
  {
   "cell_type": "code",
   "execution_count": 46,
   "id": "6014edda",
   "metadata": {},
   "outputs": [],
   "source": [
    "# df['Volume'] = df['Volume'].str.replace('K', '')\n",
    "df['Price'] = df['Price'].str.replace(',', '')\n",
    "df['Open'] = df['Open'].str.replace(',', '')\n",
    "df['High'] = df['High'].str.replace(',', '')\n",
    "df['Low'] = df['Low'].str.replace(',', '')"
   ]
  },
  {
   "cell_type": "code",
   "execution_count": 42,
   "id": "7199ed21",
   "metadata": {},
   "outputs": [],
   "source": [
    "df['Volume'] = df['Volume'].apply(lambda x: x * 1000)"
   ]
  },
  {
   "cell_type": "code",
   "execution_count": 49,
   "id": "bd310ccd",
   "metadata": {
    "scrolled": true
   },
   "outputs": [
    {
     "data": {
      "text/html": [
       "<div>\n",
       "<style scoped>\n",
       "    .dataframe tbody tr th:only-of-type {\n",
       "        vertical-align: middle;\n",
       "    }\n",
       "\n",
       "    .dataframe tbody tr th {\n",
       "        vertical-align: top;\n",
       "    }\n",
       "\n",
       "    .dataframe thead th {\n",
       "        text-align: right;\n",
       "    }\n",
       "</style>\n",
       "<table border=\"1\" class=\"dataframe\">\n",
       "  <thead>\n",
       "    <tr style=\"text-align: right;\">\n",
       "      <th></th>\n",
       "      <th>Date</th>\n",
       "      <th>Price</th>\n",
       "      <th>Open</th>\n",
       "      <th>High</th>\n",
       "      <th>Low</th>\n",
       "      <th>Volume</th>\n",
       "      <th>Chg%</th>\n",
       "    </tr>\n",
       "  </thead>\n",
       "  <tbody>\n",
       "    <tr>\n",
       "      <th>0</th>\n",
       "      <td>2023-03-03</td>\n",
       "      <td>1854.6</td>\n",
       "      <td>1842.1</td>\n",
       "      <td>1864.4</td>\n",
       "      <td>1842.0</td>\n",
       "      <td>0.0</td>\n",
       "      <td>0.77%</td>\n",
       "    </tr>\n",
       "    <tr>\n",
       "      <th>1</th>\n",
       "      <td>2023-03-02</td>\n",
       "      <td>1840.5</td>\n",
       "      <td>1843.8</td>\n",
       "      <td>1845.3</td>\n",
       "      <td>1835.9</td>\n",
       "      <td>0.0</td>\n",
       "      <td>-0.27%</td>\n",
       "    </tr>\n",
       "    <tr>\n",
       "      <th>2</th>\n",
       "      <td>2023-03-01</td>\n",
       "      <td>1845.4</td>\n",
       "      <td>1834.0</td>\n",
       "      <td>1852.5</td>\n",
       "      <td>1829.6</td>\n",
       "      <td>182580.0</td>\n",
       "      <td>0.47%</td>\n",
       "    </tr>\n",
       "    <tr>\n",
       "      <th>3</th>\n",
       "      <td>2023-02-28</td>\n",
       "      <td>1836.7</td>\n",
       "      <td>1823.9</td>\n",
       "      <td>1838.6</td>\n",
       "      <td>1810.8</td>\n",
       "      <td>184510.0</td>\n",
       "      <td>0.65%</td>\n",
       "    </tr>\n",
       "    <tr>\n",
       "      <th>4</th>\n",
       "      <td>2023-02-27</td>\n",
       "      <td>1824.9</td>\n",
       "      <td>1818.0</td>\n",
       "      <td>1827.3</td>\n",
       "      <td>1812.0</td>\n",
       "      <td>130430.0</td>\n",
       "      <td>0.35%</td>\n",
       "    </tr>\n",
       "    <tr>\n",
       "      <th>...</th>\n",
       "      <td>...</td>\n",
       "      <td>...</td>\n",
       "      <td>...</td>\n",
       "      <td>...</td>\n",
       "      <td>...</td>\n",
       "      <td>...</td>\n",
       "      <td>...</td>\n",
       "    </tr>\n",
       "    <tr>\n",
       "      <th>3191</th>\n",
       "      <td>2010-10-29</td>\n",
       "      <td>1357.6</td>\n",
       "      <td>1344.5</td>\n",
       "      <td>1359.8</td>\n",
       "      <td>1335.2</td>\n",
       "      <td>167820.0</td>\n",
       "      <td>1.12%</td>\n",
       "    </tr>\n",
       "    <tr>\n",
       "      <th>3192</th>\n",
       "      <td>2010-10-28</td>\n",
       "      <td>1342.5</td>\n",
       "      <td>1325.3</td>\n",
       "      <td>1346.2</td>\n",
       "      <td>1322.9</td>\n",
       "      <td>148660.0</td>\n",
       "      <td>1.50%</td>\n",
       "    </tr>\n",
       "    <tr>\n",
       "      <th>3193</th>\n",
       "      <td>2010-10-27</td>\n",
       "      <td>1322.6</td>\n",
       "      <td>1340.4</td>\n",
       "      <td>1343.7</td>\n",
       "      <td>1318.6</td>\n",
       "      <td>160010.0</td>\n",
       "      <td>-1.20%</td>\n",
       "    </tr>\n",
       "    <tr>\n",
       "      <th>3194</th>\n",
       "      <td>2010-10-26</td>\n",
       "      <td>1338.6</td>\n",
       "      <td>1340.3</td>\n",
       "      <td>1343.8</td>\n",
       "      <td>1328.1</td>\n",
       "      <td>156540.0</td>\n",
       "      <td>-0.02%</td>\n",
       "    </tr>\n",
       "    <tr>\n",
       "      <th>3195</th>\n",
       "      <td>2010-10-25</td>\n",
       "      <td>1338.9</td>\n",
       "      <td>1329.3</td>\n",
       "      <td>1349.5</td>\n",
       "      <td>1329.3</td>\n",
       "      <td>149220.0</td>\n",
       "      <td>1.04%</td>\n",
       "    </tr>\n",
       "  </tbody>\n",
       "</table>\n",
       "<p>3196 rows × 7 columns</p>\n",
       "</div>"
      ],
      "text/plain": [
       "           Date   Price    Open    High     Low    Volume    Chg%\n",
       "0    2023-03-03  1854.6  1842.1  1864.4  1842.0       0.0   0.77%\n",
       "1    2023-03-02  1840.5  1843.8  1845.3  1835.9       0.0  -0.27%\n",
       "2    2023-03-01  1845.4  1834.0  1852.5  1829.6  182580.0   0.47%\n",
       "3    2023-02-28  1836.7  1823.9  1838.6  1810.8  184510.0   0.65%\n",
       "4    2023-02-27  1824.9  1818.0  1827.3  1812.0  130430.0   0.35%\n",
       "...         ...     ...     ...     ...     ...       ...     ...\n",
       "3191 2010-10-29  1357.6  1344.5  1359.8  1335.2  167820.0   1.12%\n",
       "3192 2010-10-28  1342.5  1325.3  1346.2  1322.9  148660.0   1.50%\n",
       "3193 2010-10-27  1322.6  1340.4  1343.7  1318.6  160010.0  -1.20%\n",
       "3194 2010-10-26  1338.6  1340.3  1343.8  1328.1  156540.0  -0.02%\n",
       "3195 2010-10-25  1338.9  1329.3  1349.5  1329.3  149220.0   1.04%\n",
       "\n",
       "[3196 rows x 7 columns]"
      ]
     },
     "execution_count": 49,
     "metadata": {},
     "output_type": "execute_result"
    }
   ],
   "source": [
    "df"
   ]
  },
  {
   "cell_type": "code",
   "execution_count": 48,
   "id": "33a85662",
   "metadata": {},
   "outputs": [],
   "source": [
    "df['Price'] = df['Price'].astype(float)\n",
    "df['Open'] = df['Open'].astype(float)\n",
    "df['High'] = df['High'].astype(float)\n",
    "df['Low'] = df['Low'].astype(float)\n",
    "# df['Volume'] = df['Volume'].astype(float)"
   ]
  },
  {
   "cell_type": "code",
   "execution_count": 7,
   "id": "7b580584",
   "metadata": {},
   "outputs": [],
   "source": [
    "dates= gold['Date']"
   ]
  },
  {
   "cell_type": "code",
   "execution_count": 36,
   "id": "cbbc4d3b",
   "metadata": {},
   "outputs": [],
   "source": [
    "gold['Date'] = pd.to_datetime(gold['Date'], format='%b %d, %Y')\n"
   ]
  },
  {
   "cell_type": "code",
   "execution_count": null,
   "id": "9b15b5af",
   "metadata": {},
   "outputs": [],
   "source": [
    "for item in dates:\n",
    "    date_str = \n",
    "    date_obj = datetime.strptime(date_str, \"%b %d, %Y\")"
   ]
  },
  {
   "cell_type": "code",
   "execution_count": null,
   "id": "c9a57345",
   "metadata": {},
   "outputs": [],
   "source": [
    "gold.drop()"
   ]
  },
  {
   "cell_type": "code",
   "execution_count": 37,
   "id": "231fa7c7",
   "metadata": {},
   "outputs": [],
   "source": [
    "df =gold"
   ]
  },
  {
   "cell_type": "code",
   "execution_count": 30,
   "id": "a7603f3b",
   "metadata": {},
   "outputs": [
    {
     "data": {
      "image/png": "[encoded data removed]",
      "text/plain": [
       "<Figure size 1080x720 with 1 Axes>"
      ]
     },
     "metadata": {
      "needs_background": "light"
     },
     "output_type": "display_data"
    }
   ],
   "source": [
    "fig = plt.figure(figsize = (15, 10))\n",
    "\n",
    "plt.plot(df[\"Date\"], df[\"Open\"], color = \"#D3C404\")\n",
    "plt.title(\"Gold open price\")\n",
    "plt.xlabel(\"date\", fontsize = 15)\n",
    "plt.ylabel(\"open price of gold in USD\", fontsize = 15)\n",
    "plt.show()"
   ]
  },
  {
   "cell_type": "code",
   "execution_count": 50,
   "id": "19326619",
   "metadata": {},
   "outputs": [],
   "source": [
    "data = df.filter(['Price'])"
   ]
  },
  {
   "cell_type": "code",
   "execution_count": 51,
   "id": "b7bbba34",
   "metadata": {},
   "outputs": [],
   "source": [
    "dataset = data.values"
   ]
  },
  {
   "cell_type": "code",
   "execution_count": 52,
   "id": "0adb8125",
   "metadata": {},
   "outputs": [
    {
     "name": "stdout",
     "output_type": "stream",
     "text": [
      "Training data length:  3037\n"
     ]
    }
   ],
   "source": [
    "training_data_len = int(np.ceil( len(dataset) * .95 ))\n",
    "print(\"Training data length: \", training_data_len)"
   ]
  },
  {
   "cell_type": "code",
   "execution_count": 53,
   "id": "300ea008",
   "metadata": {},
   "outputs": [
    {
     "data": {
      "text/plain": [
       "array([[0.78937046],\n",
       "       [0.77554422],\n",
       "       [0.78034909],\n",
       "       ...,\n",
       "       [0.26769955],\n",
       "       [0.2833889 ],\n",
       "       [0.28368308]])"
      ]
     },
     "execution_count": 53,
     "metadata": {},
     "output_type": "execute_result"
    }
   ],
   "source": [
    "scaler = MinMaxScaler(feature_range = (0, 1))\n",
    "scaled_data = scaler.fit_transform(dataset)\n",
    "scaled_data"
   ]
  },
  {
   "cell_type": "code",
   "execution_count": 54,
   "id": "81112de6",
   "metadata": {},
   "outputs": [
    {
     "name": "stdout",
     "output_type": "stream",
     "text": [
      "[array([0.78937046, 0.77554422, 0.78034909, 0.771818  , 0.76024711,\n",
      "       0.75392234, 0.74485193, 0.75426554, 0.76848402, 0.77750539,\n",
      "       0.78535007, 0.78265346, 0.77544617, 0.7770151 , 0.76936654,\n",
      "       0.78878211, 0.78672289, 0.79741126, 0.80074524, 0.81172779,\n",
      "       0.80613846, 0.80074524, 0.79750932, 0.84987252, 0.86114924,\n",
      "       0.86281624, 0.85634438, 0.86977839, 0.87075897, 0.88321239,\n",
      "       0.87615219, 0.86938615, 0.86154148, 0.85732497, 0.84075309,\n",
      "       0.84094921, 0.84359678, 0.85340263, 0.85516768, 0.8327123 ,\n",
      "       0.81319867, 0.81084526, 0.81212002, 0.80417729, 0.77564228,\n",
      "       0.79368504, 0.7810355 , 0.77093548, 0.76152187, 0.76132575,\n",
      "       0.75132379, 0.75848206, 0.74534222, 0.73994901, 0.73122181,\n",
      "       0.7607374 , 0.7607374 , 0.73357521, 0.73602667, 0.72386742])] \n",
      "\n",
      "[0.7541674838203569]\n",
      "[array([0.78937046, 0.77554422, 0.78034909, 0.771818  , 0.76024711,\n",
      "       0.75392234, 0.74485193, 0.75426554, 0.76848402, 0.77750539,\n",
      "       0.78535007, 0.78265346, 0.77544617, 0.7770151 , 0.76936654,\n",
      "       0.78878211, 0.78672289, 0.79741126, 0.80074524, 0.81172779,\n",
      "       0.80613846, 0.80074524, 0.79750932, 0.84987252, 0.86114924,\n",
      "       0.86281624, 0.85634438, 0.86977839, 0.87075897, 0.88321239,\n",
      "       0.87615219, 0.86938615, 0.86154148, 0.85732497, 0.84075309,\n",
      "       0.84094921, 0.84359678, 0.85340263, 0.85516768, 0.8327123 ,\n",
      "       0.81319867, 0.81084526, 0.81212002, 0.80417729, 0.77564228,\n",
      "       0.79368504, 0.7810355 , 0.77093548, 0.76152187, 0.76132575,\n",
      "       0.75132379, 0.75848206, 0.74534222, 0.73994901, 0.73122181,\n",
      "       0.7607374 , 0.7607374 , 0.73357521, 0.73602667, 0.72386742]), array([0.77554422, 0.78034909, 0.771818  , 0.76024711, 0.75392234,\n",
      "       0.74485193, 0.75426554, 0.76848402, 0.77750539, 0.78535007,\n",
      "       0.78265346, 0.77544617, 0.7770151 , 0.76936654, 0.78878211,\n",
      "       0.78672289, 0.79741126, 0.80074524, 0.81172779, 0.80613846,\n",
      "       0.80074524, 0.79750932, 0.84987252, 0.86114924, 0.86281624,\n",
      "       0.85634438, 0.86977839, 0.87075897, 0.88321239, 0.87615219,\n",
      "       0.86938615, 0.86154148, 0.85732497, 0.84075309, 0.84094921,\n",
      "       0.84359678, 0.85340263, 0.85516768, 0.8327123 , 0.81319867,\n",
      "       0.81084526, 0.81212002, 0.80417729, 0.77564228, 0.79368504,\n",
      "       0.7810355 , 0.77093548, 0.76152187, 0.76132575, 0.75132379,\n",
      "       0.75848206, 0.74534222, 0.73994901, 0.73122181, 0.7607374 ,\n",
      "       0.7607374 , 0.73357521, 0.73602667, 0.72386742, 0.75416748])] \n",
      "\n",
      "[0.7541674838203569, 0.760835457932928]\n"
     ]
    }
   ],
   "source": [
    "train_data = scaled_data[0:int(training_data_len), :]\n",
    "# Split the data into x_train and y_train data sets\n",
    "x_train = []\n",
    "y_train = []\n",
    "\n",
    "for i in range(60, len(train_data)):\n",
    "    x_train.append(train_data[i-60:i, 0])\n",
    "    y_train.append(train_data[i, 0])\n",
    "    if i<= 61:\n",
    "        print(x_train, \"\\n\")\n",
    "        print(y_train)"
   ]
  },
  {
   "cell_type": "code",
   "execution_count": 55,
   "id": "dfbf23ed",
   "metadata": {},
   "outputs": [],
   "source": [
    "df.rename(columns = {\"Date\" : \"date\", \"Open\" : \"open\", \"High\" : \"high\", \"Low\" : \"low\",\n",
    "                     \"Close\" : \"close\", \"Volume\" : \"volume\", \"Currency\" : \"currency\"}, inplace = True)"
   ]
  },
  {
   "cell_type": "code",
   "execution_count": 56,
   "id": "92f99580",
   "metadata": {},
   "outputs": [],
   "source": [
    "x_train = np.array(x_train)\n",
    "y_train = np.array(y_train)"
   ]
  },
  {
   "cell_type": "code",
   "execution_count": 57,
   "id": "cfaca998",
   "metadata": {},
   "outputs": [
    {
     "name": "stdout",
     "output_type": "stream",
     "text": [
      "The sape of x_train set: (2977, 60, 1)\n"
     ]
    }
   ],
   "source": [
    "x_train = np.reshape(x_train, (x_train.shape[0], x_train.shape[1], 1))\n",
    "print(\"The sape of x_train set:\", x_train.shape)\n"
   ]
  },
  {
   "cell_type": "code",
   "execution_count": 58,
   "id": "0dde0069",
   "metadata": {},
   "outputs": [
    {
     "name": "stdout",
     "output_type": "stream",
     "text": [
      "2977/2977 [==============================] - 43s 14ms/step - loss: 0.0016\n"
     ]
    },
    {
     "data": {
      "text/plain": [
       "<keras.callbacks.History at 0x1ed5147daf0>"
      ]
     },
     "execution_count": 58,
     "metadata": {},
     "output_type": "execute_result"
    }
   ],
   "source": [
    "from keras.models import Sequential\n",
    "from keras.layers import Dense, LSTM\n",
    "\n",
    "model = Sequential()\n",
    "model.add(LSTM(128, return_sequences = True, input_shape = (x_train.shape[1], 1)))\n",
    "model.add(LSTM(64, return_sequences = False))\n",
    "model.add(Dense(25))\n",
    "model.add(Dense(1))\n",
    "\n",
    "model.compile(optimizer = \"adam\", loss = \"mean_squared_error\")\n",
    "\n",
    "model.fit(x_train, y_train, batch_size = 1, epochs = 1)"
   ]
  },
  {
   "cell_type": "code",
   "execution_count": 59,
   "id": "e475874c",
   "metadata": {},
   "outputs": [],
   "source": [
    "# Create the testing data set\n",
    "# Create a new array containing scaled values from index 1543 to 2002 \n",
    "test_data = scaled_data[training_data_len - 60: , :]\n",
    "# Create the data sets x_test and y_test\n",
    "x_test = []\n",
    "y_test = dataset[training_data_len:, :]\n",
    "for i in range(60, len(test_data)):\n",
    "    x_test.append(test_data[i-60:i, 0])"
   ]
  },
  {
   "cell_type": "code",
   "execution_count": 60,
   "id": "58b8cd32",
   "metadata": {},
   "outputs": [],
   "source": [
    "x_test = np.array(x_test)\n",
    "x_test = np.reshape(x_test, (x_test.shape[0], x_test.shape[1], 1 ))"
   ]
  },
  {
   "cell_type": "code",
   "execution_count": 61,
   "id": "4c936e6b",
   "metadata": {},
   "outputs": [
    {
     "name": "stdout",
     "output_type": "stream",
     "text": [
      "5/5 [==============================] - 1s 16ms/step\n"
     ]
    },
    {
     "data": {
      "text/plain": [
       "array([[1539.5895],\n",
       "       [1544.395 ],\n",
       "       [1545.0647],\n",
       "       [1540.2513],\n",
       "       [1539.4794],\n",
       "       [1537.4976],\n",
       "       [1535.9514],\n",
       "       [1535.35  ],\n",
       "       [1529.6748],\n",
       "       [1526.2295]], dtype=float32)"
      ]
     },
     "execution_count": 61,
     "metadata": {},
     "output_type": "execute_result"
    }
   ],
   "source": [
    "predictions = model.predict(x_test)\n",
    "predictions = scaler.inverse_transform(predictions)\n",
    "predictions[0:10]"
   ]
  },
  {
   "cell_type": "markdown",
   "id": "9f2874b8",
   "metadata": {},
   "source": [
    "# RMSE of 16.0011 using LSTM"
   ]
  },
  {
   "cell_type": "code",
   "execution_count": 62,
   "id": "552f6faa",
   "metadata": {},
   "outputs": [
    {
     "name": "stdout",
     "output_type": "stream",
     "text": [
      "RMSE score of the model: 16.001134374996564\n"
     ]
    }
   ],
   "source": [
    "rmse = np.sqrt(np.mean(((predictions - y_test) ** 2)))\n",
    "print(\"RMSE score of the model:\", rmse)"
   ]
  },
  {
   "cell_type": "code",
   "execution_count": 65,
   "id": "df800fd6",
   "metadata": {},
   "outputs": [
    {
     "data": {
      "text/html": [
       "<div>\n",
       "<style scoped>\n",
       "    .dataframe tbody tr th:only-of-type {\n",
       "        vertical-align: middle;\n",
       "    }\n",
       "\n",
       "    .dataframe tbody tr th {\n",
       "        vertical-align: top;\n",
       "    }\n",
       "\n",
       "    .dataframe thead th {\n",
       "        text-align: right;\n",
       "    }\n",
       "</style>\n",
       "<table border=\"1\" class=\"dataframe\">\n",
       "  <thead>\n",
       "    <tr style=\"text-align: right;\">\n",
       "      <th></th>\n",
       "      <th>Price</th>\n",
       "    </tr>\n",
       "  </thead>\n",
       "  <tbody>\n",
       "    <tr>\n",
       "      <th>0</th>\n",
       "      <td>1854.6</td>\n",
       "    </tr>\n",
       "    <tr>\n",
       "      <th>1</th>\n",
       "      <td>1840.5</td>\n",
       "    </tr>\n",
       "    <tr>\n",
       "      <th>2</th>\n",
       "      <td>1845.4</td>\n",
       "    </tr>\n",
       "    <tr>\n",
       "      <th>3</th>\n",
       "      <td>1836.7</td>\n",
       "    </tr>\n",
       "    <tr>\n",
       "      <th>4</th>\n",
       "      <td>1824.9</td>\n",
       "    </tr>\n",
       "    <tr>\n",
       "      <th>...</th>\n",
       "      <td>...</td>\n",
       "    </tr>\n",
       "    <tr>\n",
       "      <th>3032</th>\n",
       "      <td>1515.6</td>\n",
       "    </tr>\n",
       "    <tr>\n",
       "      <th>3033</th>\n",
       "      <td>1529.2</td>\n",
       "    </tr>\n",
       "    <tr>\n",
       "      <th>3034</th>\n",
       "      <td>1542.7</td>\n",
       "    </tr>\n",
       "    <tr>\n",
       "      <th>3035</th>\n",
       "      <td>1538.7</td>\n",
       "    </tr>\n",
       "    <tr>\n",
       "      <th>3036</th>\n",
       "      <td>1544.0</td>\n",
       "    </tr>\n",
       "  </tbody>\n",
       "</table>\n",
       "<p>3037 rows × 1 columns</p>\n",
       "</div>"
      ],
      "text/plain": [
       "       Price\n",
       "0     1854.6\n",
       "1     1840.5\n",
       "2     1845.4\n",
       "3     1836.7\n",
       "4     1824.9\n",
       "...      ...\n",
       "3032  1515.6\n",
       "3033  1529.2\n",
       "3034  1542.7\n",
       "3035  1538.7\n",
       "3036  1544.0\n",
       "\n",
       "[3037 rows x 1 columns]"
      ]
     },
     "execution_count": 65,
     "metadata": {},
     "output_type": "execute_result"
    }
   ],
   "source": [
    "train"
   ]
  },
  {
   "cell_type": "code",
   "execution_count": 75,
   "id": "aa70b8d7",
   "metadata": {
    "scrolled": true
   },
   "outputs": [
    {
     "name": "stderr",
     "output_type": "stream",
     "text": [
      "C:\\Users\\risha\\AppData\\Local\\Temp\\ipykernel_20144\\532327292.py:3: SettingWithCopyWarning: \n",
      "A value is trying to be set on a copy of a slice from a DataFrame.\n",
      "Try using .loc[row_indexer,col_indexer] = value instead\n",
      "\n",
      "See the caveats in the documentation: https://pandas.pydata.org/pandas-docs/stable/user_guide/indexing.html#returning-a-view-versus-a-copy\n",
      "  valid['Predictions'] = predictions\n"
     ]
    },
    {
     "data": {
      "image/png": "[encoded data removed]",
      "text/plain": [
       "<Figure size 1152x432 with 1 Axes>"
      ]
     },
     "metadata": {
      "needs_background": "light"
     },
     "output_type": "display_data"
    }
   ],
   "source": [
    "train = data[:training_data_len]\n",
    "valid = data[training_data_len:]\n",
    "valid['Predictions'] = predictions\n",
    "# Visualize the data\n",
    "plt.figure(figsize=(16,6))\n",
    "plt.title('Model')\n",
    "plt.xlabel('Date', fontsize=18)\n",
    "plt.ylabel(' Price USD ($)', fontsize=18)\n",
    "plt.plot(train['Price'])\n",
    "plt.plot(valid[['Price', 'Predictions']])\n",
    "# plt.plot(df['date'])\n",
    "plt.legend(['Train', 'Val', 'Predictions'], loc = 'lower right')\n",
    "plt.show()\n"
   ]
  },
  {
   "cell_type": "code",
   "execution_count": 71,
   "id": "c6ead0a1",
   "metadata": {},
   "outputs": [
    {
     "data": {
      "text/html": [
       "<div>\n",
       "<style scoped>\n",
       "    .dataframe tbody tr th:only-of-type {\n",
       "        vertical-align: middle;\n",
       "    }\n",
       "\n",
       "    .dataframe tbody tr th {\n",
       "        vertical-align: top;\n",
       "    }\n",
       "\n",
       "    .dataframe thead th {\n",
       "        text-align: right;\n",
       "    }\n",
       "</style>\n",
       "<table border=\"1\" class=\"dataframe\">\n",
       "  <thead>\n",
       "    <tr style=\"text-align: right;\">\n",
       "      <th></th>\n",
       "      <th>date</th>\n",
       "      <th>Price</th>\n",
       "      <th>open</th>\n",
       "      <th>high</th>\n",
       "      <th>low</th>\n",
       "      <th>volume</th>\n",
       "      <th>Chg%</th>\n",
       "    </tr>\n",
       "  </thead>\n",
       "  <tbody>\n",
       "    <tr>\n",
       "      <th>0</th>\n",
       "      <td>2023-03-03</td>\n",
       "      <td>1854.6</td>\n",
       "      <td>1842.1</td>\n",
       "      <td>1864.4</td>\n",
       "      <td>1842.0</td>\n",
       "      <td>0.0</td>\n",
       "      <td>0.77%</td>\n",
       "    </tr>\n",
       "    <tr>\n",
       "      <th>1</th>\n",
       "      <td>2023-03-02</td>\n",
       "      <td>1840.5</td>\n",
       "      <td>1843.8</td>\n",
       "      <td>1845.3</td>\n",
       "      <td>1835.9</td>\n",
       "      <td>0.0</td>\n",
       "      <td>-0.27%</td>\n",
       "    </tr>\n",
       "    <tr>\n",
       "      <th>2</th>\n",
       "      <td>2023-03-01</td>\n",
       "      <td>1845.4</td>\n",
       "      <td>1834.0</td>\n",
       "      <td>1852.5</td>\n",
       "      <td>1829.6</td>\n",
       "      <td>182580.0</td>\n",
       "      <td>0.47%</td>\n",
       "    </tr>\n",
       "    <tr>\n",
       "      <th>3</th>\n",
       "      <td>2023-02-28</td>\n",
       "      <td>1836.7</td>\n",
       "      <td>1823.9</td>\n",
       "      <td>1838.6</td>\n",
       "      <td>1810.8</td>\n",
       "      <td>184510.0</td>\n",
       "      <td>0.65%</td>\n",
       "    </tr>\n",
       "    <tr>\n",
       "      <th>4</th>\n",
       "      <td>2023-02-27</td>\n",
       "      <td>1824.9</td>\n",
       "      <td>1818.0</td>\n",
       "      <td>1827.3</td>\n",
       "      <td>1812.0</td>\n",
       "      <td>130430.0</td>\n",
       "      <td>0.35%</td>\n",
       "    </tr>\n",
       "    <tr>\n",
       "      <th>...</th>\n",
       "      <td>...</td>\n",
       "      <td>...</td>\n",
       "      <td>...</td>\n",
       "      <td>...</td>\n",
       "      <td>...</td>\n",
       "      <td>...</td>\n",
       "      <td>...</td>\n",
       "    </tr>\n",
       "    <tr>\n",
       "      <th>3191</th>\n",
       "      <td>2010-10-29</td>\n",
       "      <td>1357.6</td>\n",
       "      <td>1344.5</td>\n",
       "      <td>1359.8</td>\n",
       "      <td>1335.2</td>\n",
       "      <td>167820.0</td>\n",
       "      <td>1.12%</td>\n",
       "    </tr>\n",
       "    <tr>\n",
       "      <th>3192</th>\n",
       "      <td>2010-10-28</td>\n",
       "      <td>1342.5</td>\n",
       "      <td>1325.3</td>\n",
       "      <td>1346.2</td>\n",
       "      <td>1322.9</td>\n",
       "      <td>148660.0</td>\n",
       "      <td>1.50%</td>\n",
       "    </tr>\n",
       "    <tr>\n",
       "      <th>3193</th>\n",
       "      <td>2010-10-27</td>\n",
       "      <td>1322.6</td>\n",
       "      <td>1340.4</td>\n",
       "      <td>1343.7</td>\n",
       "      <td>1318.6</td>\n",
       "      <td>160010.0</td>\n",
       "      <td>-1.20%</td>\n",
       "    </tr>\n",
       "    <tr>\n",
       "      <th>3194</th>\n",
       "      <td>2010-10-26</td>\n",
       "      <td>1338.6</td>\n",
       "      <td>1340.3</td>\n",
       "      <td>1343.8</td>\n",
       "      <td>1328.1</td>\n",
       "      <td>156540.0</td>\n",
       "      <td>-0.02%</td>\n",
       "    </tr>\n",
       "    <tr>\n",
       "      <th>3195</th>\n",
       "      <td>2010-10-25</td>\n",
       "      <td>1338.9</td>\n",
       "      <td>1329.3</td>\n",
       "      <td>1349.5</td>\n",
       "      <td>1329.3</td>\n",
       "      <td>149220.0</td>\n",
       "      <td>1.04%</td>\n",
       "    </tr>\n",
       "  </tbody>\n",
       "</table>\n",
       "<p>3196 rows × 7 columns</p>\n",
       "</div>"
      ],
      "text/plain": [
       "           date   Price    open    high     low    volume    Chg%\n",
       "0    2023-03-03  1854.6  1842.1  1864.4  1842.0       0.0   0.77%\n",
       "1    2023-03-02  1840.5  1843.8  1845.3  1835.9       0.0  -0.27%\n",
       "2    2023-03-01  1845.4  1834.0  1852.5  1829.6  182580.0   0.47%\n",
       "3    2023-02-28  1836.7  1823.9  1838.6  1810.8  184510.0   0.65%\n",
       "4    2023-02-27  1824.9  1818.0  1827.3  1812.0  130430.0   0.35%\n",
       "...         ...     ...     ...     ...     ...       ...     ...\n",
       "3191 2010-10-29  1357.6  1344.5  1359.8  1335.2  167820.0   1.12%\n",
       "3192 2010-10-28  1342.5  1325.3  1346.2  1322.9  148660.0   1.50%\n",
       "3193 2010-10-27  1322.6  1340.4  1343.7  1318.6  160010.0  -1.20%\n",
       "3194 2010-10-26  1338.6  1340.3  1343.8  1328.1  156540.0  -0.02%\n",
       "3195 2010-10-25  1338.9  1329.3  1349.5  1329.3  149220.0   1.04%\n",
       "\n",
       "[3196 rows x 7 columns]"
      ]
     },
     "execution_count": 71,
     "metadata": {},
     "output_type": "execute_result"
    }
   ],
   "source": [
    "df"
   ]
  },
  {
   "cell_type": "code",
   "execution_count": 76,
   "id": "ea5a45c5",
   "metadata": {},
   "outputs": [
    {
     "data": {
      "text/html": [
       "<div>\n",
       "<style scoped>\n",
       "    .dataframe tbody tr th:only-of-type {\n",
       "        vertical-align: middle;\n",
       "    }\n",
       "\n",
       "    .dataframe tbody tr th {\n",
       "        vertical-align: top;\n",
       "    }\n",
       "\n",
       "    .dataframe thead th {\n",
       "        text-align: right;\n",
       "    }\n",
       "</style>\n",
       "<table border=\"1\" class=\"dataframe\">\n",
       "  <thead>\n",
       "    <tr style=\"text-align: right;\">\n",
       "      <th></th>\n",
       "      <th>Price</th>\n",
       "      <th>Predictions</th>\n",
       "    </tr>\n",
       "  </thead>\n",
       "  <tbody>\n",
       "    <tr>\n",
       "      <th>3037</th>\n",
       "      <td>1547.2</td>\n",
       "      <td>1539.589478</td>\n",
       "    </tr>\n",
       "    <tr>\n",
       "      <th>3038</th>\n",
       "      <td>1542.4</td>\n",
       "      <td>1544.395020</td>\n",
       "    </tr>\n",
       "    <tr>\n",
       "      <th>3039</th>\n",
       "      <td>1532.7</td>\n",
       "      <td>1545.064697</td>\n",
       "    </tr>\n",
       "    <tr>\n",
       "      <th>3040</th>\n",
       "      <td>1543.2</td>\n",
       "      <td>1540.251343</td>\n",
       "    </tr>\n",
       "    <tr>\n",
       "      <th>3041</th>\n",
       "      <td>1536.8</td>\n",
       "      <td>1539.479370</td>\n",
       "    </tr>\n",
       "    <tr>\n",
       "      <th>...</th>\n",
       "      <td>...</td>\n",
       "      <td>...</td>\n",
       "    </tr>\n",
       "    <tr>\n",
       "      <th>3191</th>\n",
       "      <td>1357.6</td>\n",
       "      <td>1341.898926</td>\n",
       "    </tr>\n",
       "    <tr>\n",
       "      <th>3192</th>\n",
       "      <td>1342.5</td>\n",
       "      <td>1341.525024</td>\n",
       "    </tr>\n",
       "    <tr>\n",
       "      <th>3193</th>\n",
       "      <td>1322.6</td>\n",
       "      <td>1339.079834</td>\n",
       "    </tr>\n",
       "    <tr>\n",
       "      <th>3194</th>\n",
       "      <td>1338.6</td>\n",
       "      <td>1330.147583</td>\n",
       "    </tr>\n",
       "    <tr>\n",
       "      <th>3195</th>\n",
       "      <td>1338.9</td>\n",
       "      <td>1328.421997</td>\n",
       "    </tr>\n",
       "  </tbody>\n",
       "</table>\n",
       "<p>159 rows × 2 columns</p>\n",
       "</div>"
      ],
      "text/plain": [
       "       Price  Predictions\n",
       "3037  1547.2  1539.589478\n",
       "3038  1542.4  1544.395020\n",
       "3039  1532.7  1545.064697\n",
       "3040  1543.2  1540.251343\n",
       "3041  1536.8  1539.479370\n",
       "...      ...          ...\n",
       "3191  1357.6  1341.898926\n",
       "3192  1342.5  1341.525024\n",
       "3193  1322.6  1339.079834\n",
       "3194  1338.6  1330.147583\n",
       "3195  1338.9  1328.421997\n",
       "\n",
       "[159 rows x 2 columns]"
      ]
     },
     "execution_count": 76,
     "metadata": {},
     "output_type": "execute_result"
    }
   ],
   "source": [
    "valid"
   ]
  },
  {
   "cell_type": "code",
   "execution_count": 77,
   "id": "0af5b685",
   "metadata": {},
   "outputs": [
    {
     "data": {
      "text/plain": [
       "date      2011-06-06 00:00:00\n",
       "Price                  1547.2\n",
       "open                   1544.5\n",
       "high                   1555.0\n",
       "low                    1541.6\n",
       "volume               100190.0\n",
       "Chg%                    0.31%\n",
       "Name: 3037, dtype: object"
      ]
     },
     "execution_count": 77,
     "metadata": {},
     "output_type": "execute_result"
    }
   ],
   "source": [
    "df.iloc[3037]"
   ]
  },
  {
   "cell_type": "code",
   "execution_count": null,
   "id": "8816bb35",
   "metadata": {},
   "outputs": [],
   "source": []
  }
 ],
 "metadata": {
  "kernelspec": {
   "display_name": "Python 3 (ipykernel)",
   "language": "python",
   "name": "python3"
  },
  "language_info": {
   "codemirror_mode": {
    "name": "ipython",
    "version": 3
   },
   "file_extension": ".py",
   "mimetype": "text/x-python",
   "name": "python",
   "nbconvert_exporter": "python",
   "pygments_lexer": "ipython3",
   "version": "3.9.12"
  }
 },
 "nbformat": 4,
 "nbformat_minor": 5
}
